{
 "cells": [
  {
   "cell_type": "markdown",
   "id": "885d540b",
   "metadata": {},
   "source": [
    "# Практическое задание №4 по теме \"Сверточные нейронные сети\"."
   ]
  },
  {
   "cell_type": "markdown",
   "id": "8baa73e8",
   "metadata": {},
   "source": [
    "1. обучить рукописную сверточную нейронную сеть (с падением размера ядра свертки и последовательностью блоков свертка-пулинг (conv-pool)-(conv-pool)-...) на датасете cifar-10\n",
    "2. оценить рост точности при увеличении ширины сети (больше фильтров)\n",
    "3. оценить рост точности при увеличении глубины сети (больше слоев)\n",
    "4. *сравнить с точностью полносвязной сети для этой выборки"
   ]
  },
  {
   "cell_type": "code",
   "execution_count": 1,
   "id": "324d8b45",
   "metadata": {},
   "outputs": [],
   "source": [
    "import os\n",
    "import numpy as np\n",
    "import pandas as pd\n",
    "import tensorflow as tf\n",
    "import matplotlib.pyplot as plt\n",
    "\n",
    "from tensorflow.keras.datasets import cifar10\n",
    "from tensorflow.keras.utils import to_categorical\n",
    "from tensorflow.keras.layers import Dense, Dropout, Activation, Flatten\n",
    "from tensorflow.keras.models import Sequential\n",
    "from tensorflow.keras.layers import Conv2D\n",
    "from tensorflow.keras.layers import MaxPooling2D"
   ]
  },
  {
   "cell_type": "code",
   "execution_count": 2,
   "id": "3cf3921f",
   "metadata": {},
   "outputs": [
    {
     "data": {
      "text/plain": [
       "[PhysicalDevice(name='/physical_device:GPU:0', device_type='GPU')]"
      ]
     },
     "execution_count": 2,
     "metadata": {},
     "output_type": "execute_result"
    }
   ],
   "source": [
    "tf.config.list_physical_devices('GPU')"
   ]
  },
  {
   "cell_type": "code",
   "execution_count": 3,
   "id": "6a3a2835",
   "metadata": {},
   "outputs": [],
   "source": [
    "tf.random.set_seed(123)"
   ]
  },
  {
   "cell_type": "code",
   "execution_count": 4,
   "id": "3fa9b5fd",
   "metadata": {},
   "outputs": [],
   "source": [
    "models = [] \n",
    "train_acc = []\n",
    "test_acc = [] "
   ]
  },
  {
   "cell_type": "markdown",
   "id": "7ed462af",
   "metadata": {},
   "source": [
    "## Загрузка данных"
   ]
  },
  {
   "cell_type": "code",
   "execution_count": 5,
   "id": "2552e366",
   "metadata": {
    "scrolled": false
   },
   "outputs": [
    {
     "name": "stdout",
     "output_type": "stream",
     "text": [
      "X_train shape: (50000, 32, 32, 3)\n",
      "50000 тренировочные примеры\n",
      "10000 тестовые примеры\n"
     ]
    }
   ],
   "source": [
    "num_classes = 10\n",
    "# разделение тренировочной и тестовой выборки\n",
    "(X_train, y_train), (X_test, y_test) = cifar10.load_data()\n",
    "print('X_train shape:', X_train.shape)\n",
    "print(X_train.shape[0], 'тренировочные примеры')\n",
    "print(X_test.shape[0], 'тестовые примеры')\n",
    "\n",
    "# преобразование матрицы чисел 0-9 в бинарную матрицу чисел 0-1\n",
    "y_train = to_categorical(y_train, num_classes)\n",
    "y_test = to_categorical(y_test, num_classes)\n",
    "\n",
    "X_train = X_train / 255.0\n",
    "X_test = X_test / 255.0"
   ]
  },
  {
   "cell_type": "code",
   "execution_count": 6,
   "id": "b3a8b493",
   "metadata": {},
   "outputs": [],
   "source": [
    "classes = ['самолет', 'автомобиль', 'птица', 'кот', 'олень', 'собака', 'лягушка', 'лошадь', 'корабль', 'грузовик']"
   ]
  },
  {
   "cell_type": "code",
   "execution_count": 7,
   "id": "772ff1e5",
   "metadata": {},
   "outputs": [
    {
     "data": {
      "image/png": "[encoded data removed]",
      "text/plain": [
       "<Figure size 640x480 with 2 Axes>"
      ]
     },
     "metadata": {},
     "output_type": "display_data"
    }
   ],
   "source": [
    "plt.subplot(1, 2, 1)\n",
    "plt.imshow(X_test[5])\n",
    "plt.title(f\"{classes[np.argmax(y_test[5,:])]}\")\n",
    "plt.subplot(1, 2, 2)\n",
    "plt.imshow(X_test[1])\n",
    "plt.title(f\"{classes[np.argmax(y_test[1,:])]}\")\n",
    "plt.show()"
   ]
  },
  {
   "cell_type": "markdown",
   "id": "9a8bc151",
   "metadata": {},
   "source": [
    "## Задание 1\n",
    "\n",
    "Обучим сверточную нейронную сеть на датасете cifar-10."
   ]
  },
  {
   "cell_type": "code",
   "execution_count": 8,
   "id": "152de01e",
   "metadata": {},
   "outputs": [],
   "source": [
    "batch_size = 128\n",
    "epochs = 10"
   ]
  },
  {
   "cell_type": "code",
   "execution_count": 9,
   "id": "850d8e8e",
   "metadata": {},
   "outputs": [],
   "source": [
    "# конфигурирование слоев нейросети\n",
    "model_base = Sequential()\n",
    "\n",
    "# слои нейросети отвественные за свертку и max-pooling\n",
    "model_base.add(Conv2D(32, (3, 3), padding='same', input_shape=X_train.shape[1:]))\n",
    "model_base.add(Activation('relu'))\n",
    "model_base.add(Conv2D(32, (3, 3)))\n",
    "model_base.add(Activation('relu'))\n",
    "model_base.add(MaxPooling2D(pool_size=(2, 2)))\n",
    "model_base.add(Dropout(0.25))\n",
    "\n",
    "model_base.add(Conv2D(64, (3, 3), padding='same'))\n",
    "model_base.add(Activation('relu'))\n",
    "model_base.add(Conv2D(64, (3, 3)))\n",
    "model_base.add(Activation('relu'))\n",
    "model_base.add(MaxPooling2D(pool_size=(2, 2)))\n",
    "model_base.add(Dropout(0.25))\n",
    "\n",
    "# полносвязные слои нейронной сети\n",
    "model_base.add(Flatten())\n",
    "model_base.add(Dense(128))\n",
    "model_base.add(Activation('relu'))\n",
    "model_base.add(Dense(128))\n",
    "model_base.add(Activation('relu'))\n",
    "model_base.add(Dropout(0.5))\n",
    "model_base.add(Dense(num_classes))\n",
    "model_base.add(Activation('softmax'))\n",
    "\n",
    "# model.summary()\n",
    "# компиляция модели\n",
    "model_base.compile(loss='categorical_crossentropy',\n",
    "                optimizer='Adam',\n",
    "                metrics=['accuracy'])"
   ]
  },
  {
   "cell_type": "code",
   "execution_count": 10,
   "id": "1e524a4b",
   "metadata": {
    "scrolled": false
   },
   "outputs": [
    {
     "name": "stdout",
     "output_type": "stream",
     "text": [
      "Epoch 1/10\n",
      "391/391 - 7s - loss: 1.7406 - accuracy: 0.3537 - val_loss: 1.3417 - val_accuracy: 0.5126 - 7s/epoch - 19ms/step\n",
      "Epoch 2/10\n",
      "391/391 - 4s - loss: 1.3257 - accuracy: 0.5270 - val_loss: 1.1618 - val_accuracy: 0.5919 - 4s/epoch - 11ms/step\n",
      "Epoch 3/10\n",
      "391/391 - 4s - loss: 1.1664 - accuracy: 0.5878 - val_loss: 1.0218 - val_accuracy: 0.6361 - 4s/epoch - 11ms/step\n",
      "Epoch 4/10\n",
      "391/391 - 4s - loss: 1.0373 - accuracy: 0.6404 - val_loss: 0.9285 - val_accuracy: 0.6756 - 4s/epoch - 11ms/step\n",
      "Epoch 5/10\n",
      "391/391 - 5s - loss: 0.9397 - accuracy: 0.6724 - val_loss: 0.8726 - val_accuracy: 0.6943 - 5s/epoch - 12ms/step\n",
      "Epoch 6/10\n",
      "391/391 - 4s - loss: 0.8691 - accuracy: 0.6977 - val_loss: 0.8243 - val_accuracy: 0.7131 - 4s/epoch - 11ms/step\n",
      "Epoch 7/10\n",
      "391/391 - 4s - loss: 0.8243 - accuracy: 0.7168 - val_loss: 0.7782 - val_accuracy: 0.7313 - 4s/epoch - 11ms/step\n",
      "Epoch 8/10\n",
      "391/391 - 4s - loss: 0.7656 - accuracy: 0.7364 - val_loss: 0.7431 - val_accuracy: 0.7436 - 4s/epoch - 11ms/step\n",
      "Epoch 9/10\n",
      "391/391 - 4s - loss: 0.7275 - accuracy: 0.7497 - val_loss: 0.7465 - val_accuracy: 0.7434 - 4s/epoch - 11ms/step\n",
      "Epoch 10/10\n",
      "391/391 - 4s - loss: 0.6974 - accuracy: 0.7599 - val_loss: 0.7179 - val_accuracy: 0.7510 - 4s/epoch - 11ms/step\n"
     ]
    }
   ],
   "source": [
    "with tf.device(\"GPU:0\"):\n",
    "    history_base = model_base.fit(X_train, \n",
    "                                  y_train,\n",
    "                                  batch_size=batch_size,\n",
    "                                  epochs=epochs,\n",
    "                                  validation_data=(X_test, y_test),\n",
    "                                  verbose=2)"
   ]
  },
  {
   "cell_type": "code",
   "execution_count": 11,
   "id": "cd4ac265",
   "metadata": {},
   "outputs": [],
   "source": [
    "with tf.device(\"GPU:0\"):\n",
    "    tr_loss, tr_acc = model_base.evaluate(X_train, y_train, verbose=0)\n",
    "    te_loss, te_acc = model_base.evaluate(X_test, y_test, verbose=0)\n",
    "\n",
    "models.append('Базовая модель')\n",
    "train_acc.append(round(tr_acc, 2))\n",
    "test_acc.append(round(te_acc, 2))"
   ]
  },
  {
   "cell_type": "markdown",
   "id": "3904420b",
   "metadata": {},
   "source": [
    "## Задание 2\n",
    "\n",
    "Оценим рост точности при увеличении ширины сети (больше фильтров).\n",
    "\n",
    "Увеличили количество фильтров в 2 раза."
   ]
  },
  {
   "cell_type": "code",
   "execution_count": 12,
   "id": "5df49f94",
   "metadata": {},
   "outputs": [],
   "source": [
    "# конфигурирование слоев нейросети\n",
    "model_wide = Sequential()\n",
    "\n",
    "# слои нейросети отвественные за свертку и max-pooling\n",
    "model_wide.add(Conv2D(62, (3, 3), padding='same', input_shape=X_train.shape[1:]))\n",
    "model_wide.add(Activation('relu'))\n",
    "model_wide.add(Conv2D(64, (3, 3)))\n",
    "model_wide.add(Activation('relu'))\n",
    "model_wide.add(MaxPooling2D(pool_size=(2, 2)))\n",
    "model_wide.add(Dropout(0.25))\n",
    "\n",
    "model_wide.add(Conv2D(128, (3, 3), padding='same'))\n",
    "model_wide.add(Activation('relu'))\n",
    "model_wide.add(Conv2D(128, (3, 3)))\n",
    "model_wide.add(Activation('relu'))\n",
    "model_wide.add(MaxPooling2D(pool_size=(2, 2)))\n",
    "model_wide.add(Dropout(0.25))\n",
    "\n",
    "# полносвязные слои нейронной сети\n",
    "model_wide.add(Flatten())\n",
    "model_wide.add(Dense(128))\n",
    "model_wide.add(Activation('relu'))\n",
    "model_wide.add(Dense(128))\n",
    "model_wide.add(Activation('relu'))\n",
    "model_wide.add(Dropout(0.5))\n",
    "model_wide.add(Dense(num_classes))\n",
    "model_wide.add(Activation('softmax'))\n",
    "\n",
    "# model.summary()\n",
    "# компиляция модели\n",
    "model_wide.compile(loss='categorical_crossentropy',\n",
    "                optimizer='Adam',\n",
    "                metrics=['accuracy'])"
   ]
  },
  {
   "cell_type": "code",
   "execution_count": 13,
   "id": "47899b70",
   "metadata": {},
   "outputs": [
    {
     "name": "stdout",
     "output_type": "stream",
     "text": [
      "Epoch 1/10\n",
      "391/391 - 9s - loss: 1.7061 - accuracy: 0.3671 - val_loss: 1.3247 - val_accuracy: 0.5115 - 9s/epoch - 24ms/step\n",
      "Epoch 2/10\n",
      "391/391 - 7s - loss: 1.2487 - accuracy: 0.5573 - val_loss: 1.0612 - val_accuracy: 0.6284 - 7s/epoch - 19ms/step\n",
      "Epoch 3/10\n",
      "391/391 - 8s - loss: 1.0388 - accuracy: 0.6369 - val_loss: 0.8928 - val_accuracy: 0.6945 - 8s/epoch - 20ms/step\n",
      "Epoch 4/10\n",
      "391/391 - 8s - loss: 0.9097 - accuracy: 0.6847 - val_loss: 0.8249 - val_accuracy: 0.7120 - 8s/epoch - 21ms/step\n",
      "Epoch 5/10\n",
      "391/391 - 8s - loss: 0.8089 - accuracy: 0.7217 - val_loss: 0.7863 - val_accuracy: 0.7255 - 8s/epoch - 20ms/step\n",
      "Epoch 6/10\n",
      "391/391 - 8s - loss: 0.7375 - accuracy: 0.7487 - val_loss: 0.7158 - val_accuracy: 0.7513 - 8s/epoch - 20ms/step\n",
      "Epoch 7/10\n",
      "391/391 - 8s - loss: 0.6753 - accuracy: 0.7680 - val_loss: 0.6836 - val_accuracy: 0.7666 - 8s/epoch - 20ms/step\n",
      "Epoch 8/10\n",
      "391/391 - 8s - loss: 0.6390 - accuracy: 0.7818 - val_loss: 0.6780 - val_accuracy: 0.7688 - 8s/epoch - 20ms/step\n",
      "Epoch 9/10\n",
      "391/391 - 8s - loss: 0.5899 - accuracy: 0.7976 - val_loss: 0.6623 - val_accuracy: 0.7806 - 8s/epoch - 21ms/step\n",
      "Epoch 10/10\n",
      "391/391 - 8s - loss: 0.5627 - accuracy: 0.8086 - val_loss: 0.6804 - val_accuracy: 0.7749 - 8s/epoch - 20ms/step\n"
     ]
    }
   ],
   "source": [
    "with tf.device(\"GPU:0\"):\n",
    "    history_wide = model_wide.fit(X_train, \n",
    "                                  y_train,\n",
    "                                  batch_size=batch_size,\n",
    "                                  epochs=epochs,\n",
    "                                  validation_data=(X_test, y_test),\n",
    "                                  verbose=2)"
   ]
  },
  {
   "cell_type": "code",
   "execution_count": 14,
   "id": "6f3d4730",
   "metadata": {},
   "outputs": [],
   "source": [
    "with tf.device(\"GPU:0\"):\n",
    "    tr_loss, tr_acc = model_wide.evaluate(X_train, y_train, verbose=0)\n",
    "    te_loss, te_acc = model_wide.evaluate(X_test, y_test, verbose=0)\n",
    "    \n",
    "models.append('Больше фильтров х2')\n",
    "train_acc.append(round(tr_acc, 2))\n",
    "test_acc.append(round(te_acc, 2))"
   ]
  },
  {
   "cell_type": "markdown",
   "id": "d9d393f2",
   "metadata": {},
   "source": [
    "## Задание 3\n",
    "\n",
    "Оценим рост точности при увеличении глубины сети (больше слоев)"
   ]
  },
  {
   "cell_type": "code",
   "execution_count": 15,
   "id": "09ecec41",
   "metadata": {},
   "outputs": [],
   "source": [
    "# конфигурирование слоев нейросети\n",
    "model_deep = Sequential()\n",
    "\n",
    "# слои нейросети отвественные за свертку и max-pooling\n",
    "model_deep.add(Conv2D(32, (3, 3), padding='same', input_shape=X_train.shape[1:]))\n",
    "model_deep.add(Activation('relu'))\n",
    "model_deep.add(Conv2D(32, (3, 3)))\n",
    "model_deep.add(Activation('relu'))\n",
    "model_deep.add(MaxPooling2D(pool_size=(2, 2)))\n",
    "model_deep.add(Dropout(0.25))\n",
    "\n",
    "model_deep.add(Conv2D(64, (3, 3), padding='same'))\n",
    "model_deep.add(Activation('relu'))\n",
    "model_deep.add(Conv2D(64, (3, 3)))\n",
    "model_deep.add(Activation('relu'))\n",
    "model_deep.add(MaxPooling2D(pool_size=(2, 2)))\n",
    "model_deep.add(Dropout(0.25))\n",
    "\n",
    "# увеличили глубину\n",
    "model_deep.add(Conv2D(64, (3, 3), padding='same'))\n",
    "model_deep.add(Activation('relu'))\n",
    "model_deep.add(Conv2D(64, (3, 3)))\n",
    "model_deep.add(Activation('relu'))\n",
    "model_deep.add(MaxPooling2D(pool_size=(2, 2)))\n",
    "model_deep.add(Dropout(0.25))\n",
    "\n",
    "# полносвязные слои нейронной сети\n",
    "model_deep.add(Flatten())\n",
    "model_deep.add(Dense(128))\n",
    "model_deep.add(Activation('relu'))\n",
    "model_deep.add(Dense(128))\n",
    "model_deep.add(Activation('relu'))\n",
    "model_deep.add(Dropout(0.5))\n",
    "model_deep.add(Dense(num_classes))\n",
    "model_deep.add(Activation('softmax'))\n",
    "\n",
    "# model.summary()\n",
    "# компиляция модели\n",
    "model_deep.compile(loss='categorical_crossentropy',\n",
    "                optimizer='Adam',\n",
    "                metrics=['accuracy'])"
   ]
  },
  {
   "cell_type": "code",
   "execution_count": 16,
   "id": "ccc98870",
   "metadata": {},
   "outputs": [
    {
     "name": "stdout",
     "output_type": "stream",
     "text": [
      "Epoch 1/10\n",
      "391/391 - 6s - loss: 1.9190 - accuracy: 0.2714 - val_loss: 1.5414 - val_accuracy: 0.4275 - 6s/epoch - 15ms/step\n",
      "Epoch 2/10\n",
      "391/391 - 5s - loss: 1.4634 - accuracy: 0.4686 - val_loss: 1.2847 - val_accuracy: 0.5387 - 5s/epoch - 12ms/step\n",
      "Epoch 3/10\n",
      "391/391 - 5s - loss: 1.2568 - accuracy: 0.5491 - val_loss: 1.0699 - val_accuracy: 0.6166 - 5s/epoch - 12ms/step\n",
      "Epoch 4/10\n",
      "391/391 - 5s - loss: 1.1339 - accuracy: 0.5986 - val_loss: 0.9994 - val_accuracy: 0.6413 - 5s/epoch - 12ms/step\n",
      "Epoch 5/10\n",
      "391/391 - 5s - loss: 1.0378 - accuracy: 0.6376 - val_loss: 0.9417 - val_accuracy: 0.6692 - 5s/epoch - 13ms/step\n",
      "Epoch 6/10\n",
      "391/391 - 5s - loss: 0.9676 - accuracy: 0.6633 - val_loss: 0.8723 - val_accuracy: 0.6955 - 5s/epoch - 13ms/step\n",
      "Epoch 7/10\n",
      "391/391 - 5s - loss: 0.9126 - accuracy: 0.6849 - val_loss: 0.7931 - val_accuracy: 0.7236 - 5s/epoch - 12ms/step\n",
      "Epoch 8/10\n",
      "391/391 - 5s - loss: 0.8668 - accuracy: 0.7035 - val_loss: 0.7624 - val_accuracy: 0.7370 - 5s/epoch - 12ms/step\n",
      "Epoch 9/10\n",
      "391/391 - 5s - loss: 0.8298 - accuracy: 0.7180 - val_loss: 0.7482 - val_accuracy: 0.7463 - 5s/epoch - 12ms/step\n",
      "Epoch 10/10\n",
      "391/391 - 5s - loss: 0.7907 - accuracy: 0.7315 - val_loss: 0.7231 - val_accuracy: 0.7540 - 5s/epoch - 12ms/step\n"
     ]
    }
   ],
   "source": [
    "with tf.device(\"GPU:0\"):\n",
    "    history_deep = model_deep.fit(X_train, \n",
    "                                  y_train,\n",
    "                                  batch_size=batch_size,\n",
    "                                  epochs=epochs,\n",
    "                                  validation_data=(X_test, y_test),\n",
    "                                  verbose=2)"
   ]
  },
  {
   "cell_type": "code",
   "execution_count": 17,
   "id": "1618d192",
   "metadata": {},
   "outputs": [],
   "source": [
    "with tf.device(\"GPU:0\"):\n",
    "    tr_loss, tr_acc = model_deep.evaluate(X_train, y_train, verbose=0)\n",
    "    te_loss, te_acc = model_deep.evaluate(X_test, y_test, verbose=0)\n",
    "\n",
    "models.append('Более глубокая +2 слоя')\n",
    "train_acc.append(round(tr_acc, 2))\n",
    "test_acc.append(round(te_acc, 2))"
   ]
  },
  {
   "cell_type": "markdown",
   "id": "76ccf155",
   "metadata": {},
   "source": [
    "## Задание 4\n",
    "\n",
    "Обучим полносвязную сеть на датасете cifar-10 и сравним точность с другими сверточными сетями."
   ]
  },
  {
   "cell_type": "code",
   "execution_count": 25,
   "id": "ecef4594",
   "metadata": {},
   "outputs": [],
   "source": [
    "# конфигурирование слоев нейросети\n",
    "model_full = Sequential()\n",
    "\n",
    "# полносвязные слои нейронной сети\n",
    "model_full.add(Flatten(input_shape=X_train.shape[1:]))\n",
    "model_full.add(Dense(256))\n",
    "model_full.add(Activation('relu'))\n",
    "model_full.add(Dense(256))\n",
    "model_full.add(Activation('relu'))\n",
    "model_full.add(Dense(64))\n",
    "model_full.add(Activation('relu'))\n",
    "model_full.add(Dense(num_classes))\n",
    "model_full.add(Activation('softmax'))\n",
    "\n",
    "# model_full.summary()\n",
    "# компиляция модели\n",
    "model_full.compile(loss='categorical_crossentropy',\n",
    "                optimizer='Adam',\n",
    "                metrics=['accuracy'])"
   ]
  },
  {
   "cell_type": "code",
   "execution_count": 26,
   "id": "b9b05728",
   "metadata": {},
   "outputs": [
    {
     "name": "stdout",
     "output_type": "stream",
     "text": [
      "Epoch 1/10\n",
      "391/391 - 2s - loss: 1.8926 - accuracy: 0.3113 - val_loss: 1.7411 - val_accuracy: 0.3683 - 2s/epoch - 5ms/step\n",
      "Epoch 2/10\n",
      "391/391 - 2s - loss: 1.6879 - accuracy: 0.3934 - val_loss: 1.6591 - val_accuracy: 0.4013 - 2s/epoch - 4ms/step\n",
      "Epoch 3/10\n",
      "391/391 - 2s - loss: 1.6006 - accuracy: 0.4270 - val_loss: 1.5682 - val_accuracy: 0.4399 - 2s/epoch - 4ms/step\n",
      "Epoch 4/10\n",
      "391/391 - 2s - loss: 1.5408 - accuracy: 0.4482 - val_loss: 1.5250 - val_accuracy: 0.4529 - 2s/epoch - 4ms/step\n",
      "Epoch 5/10\n",
      "391/391 - 2s - loss: 1.4924 - accuracy: 0.4686 - val_loss: 1.5032 - val_accuracy: 0.4700 - 2s/epoch - 4ms/step\n",
      "Epoch 6/10\n",
      "391/391 - 2s - loss: 1.4657 - accuracy: 0.4785 - val_loss: 1.4874 - val_accuracy: 0.4709 - 2s/epoch - 4ms/step\n",
      "Epoch 7/10\n",
      "391/391 - 2s - loss: 1.4311 - accuracy: 0.4890 - val_loss: 1.4586 - val_accuracy: 0.4801 - 2s/epoch - 4ms/step\n",
      "Epoch 8/10\n",
      "391/391 - 2s - loss: 1.4051 - accuracy: 0.4985 - val_loss: 1.4205 - val_accuracy: 0.4953 - 2s/epoch - 4ms/step\n",
      "Epoch 9/10\n",
      "391/391 - 2s - loss: 1.3724 - accuracy: 0.5107 - val_loss: 1.4692 - val_accuracy: 0.4777 - 2s/epoch - 4ms/step\n",
      "Epoch 10/10\n",
      "391/391 - 2s - loss: 1.3530 - accuracy: 0.5167 - val_loss: 1.4113 - val_accuracy: 0.4944 - 2s/epoch - 4ms/step\n"
     ]
    }
   ],
   "source": [
    "history_full = model_full.fit(X_train, \n",
    "                                  y_train,\n",
    "                                  batch_size=batch_size,\n",
    "                                  epochs=epochs,\n",
    "                                  validation_data=(X_test, y_test),\n",
    "                                  verbose=2)"
   ]
  },
  {
   "cell_type": "code",
   "execution_count": 27,
   "id": "5f07214f",
   "metadata": {},
   "outputs": [],
   "source": [
    "tr_loss, tr_acc = model_full.evaluate(X_train, y_train, verbose=0)\n",
    "te_loss, te_acc = model_full.evaluate(X_test, y_test, verbose=0)\n",
    "\n",
    "models.append('Полносвязная сеть')\n",
    "train_acc.append(round(tr_acc, 2))\n",
    "test_acc.append(round(te_acc, 2))"
   ]
  },
  {
   "cell_type": "markdown",
   "id": "5f724cff",
   "metadata": {},
   "source": [
    "---"
   ]
  },
  {
   "cell_type": "markdown",
   "id": "3e3d6dc3",
   "metadata": {},
   "source": [
    "## Вывод"
   ]
  },
  {
   "cell_type": "code",
   "execution_count": 28,
   "id": "138092ad",
   "metadata": {},
   "outputs": [],
   "source": [
    "results = pd.DataFrame()\n",
    "results['model'] = models\n",
    "results['train_acc'] = train_acc\n",
    "results['test_acc'] = test_acc"
   ]
  },
  {
   "cell_type": "code",
   "execution_count": 29,
   "id": "34496276",
   "metadata": {},
   "outputs": [
    {
     "data": {
      "image/png": "[encoded data removed]",
      "text/plain": [
       "<Figure size 1600x800 with 1 Axes>"
      ]
     },
     "metadata": {},
     "output_type": "display_data"
    }
   ],
   "source": [
    "plt.figure(figsize=(16,8))\n",
    "plt.plot(history_base.history['val_accuracy'], c='darkgreen', label=f'Base model, val')\n",
    "plt.plot(history_base.history['accuracy'], '.', c='darkgreen', label=f'Base model, train')\n",
    "plt.plot(history_wide.history['val_accuracy'], c='darkblue', label=f'Wide model, val')\n",
    "plt.plot(history_wide.history['accuracy'], '.', c='darkblue', label=f'Wide model, train')\n",
    "plt.plot(history_deep.history['val_accuracy'], c='red', label=f'Deep model, val')\n",
    "plt.plot(history_deep.history['accuracy'], '.', c='red', label=f'Deep model, train')\n",
    "plt.plot(history_full.history['val_accuracy'], c='olive', label=f'Full-connected model, val')\n",
    "plt.plot(history_full.history['accuracy'], '.', c='olive', label=f'Full-connected model, train')\n",
    "plt.title('Evaluation')\n",
    "plt.xlabel('epoch')\n",
    "plt.ylabel('Accuracy')\n",
    "plt.grid()\n",
    "plt.legend()\n",
    "plt.show()"
   ]
  },
  {
   "cell_type": "code",
   "execution_count": 30,
   "id": "0cf90a32",
   "metadata": {
    "scrolled": true
   },
   "outputs": [
    {
     "data": {
      "text/html": [
       "<div>\n",
       "<style scoped>\n",
       "    .dataframe tbody tr th:only-of-type {\n",
       "        vertical-align: middle;\n",
       "    }\n",
       "\n",
       "    .dataframe tbody tr th {\n",
       "        vertical-align: top;\n",
       "    }\n",
       "\n",
       "    .dataframe thead th {\n",
       "        text-align: right;\n",
       "    }\n",
       "</style>\n",
       "<table border=\"1\" class=\"dataframe\">\n",
       "  <thead>\n",
       "    <tr style=\"text-align: right;\">\n",
       "      <th></th>\n",
       "      <th>model</th>\n",
       "      <th>train_acc</th>\n",
       "      <th>test_acc</th>\n",
       "    </tr>\n",
       "  </thead>\n",
       "  <tbody>\n",
       "    <tr>\n",
       "      <th>0</th>\n",
       "      <td>Базовая модель</td>\n",
       "      <td>0.82</td>\n",
       "      <td>0.75</td>\n",
       "    </tr>\n",
       "    <tr>\n",
       "      <th>1</th>\n",
       "      <td>Больше фильтров х2</td>\n",
       "      <td>0.86</td>\n",
       "      <td>0.77</td>\n",
       "    </tr>\n",
       "    <tr>\n",
       "      <th>2</th>\n",
       "      <td>Более глубокая +2 слоя</td>\n",
       "      <td>0.79</td>\n",
       "      <td>0.75</td>\n",
       "    </tr>\n",
       "    <tr>\n",
       "      <th>3</th>\n",
       "      <td>Полносвязная сеть</td>\n",
       "      <td>0.54</td>\n",
       "      <td>0.49</td>\n",
       "    </tr>\n",
       "  </tbody>\n",
       "</table>\n",
       "</div>"
      ],
      "text/plain": [
       "                    model  train_acc  test_acc\n",
       "0          Базовая модель       0.82      0.75\n",
       "1      Больше фильтров х2       0.86      0.77\n",
       "2  Более глубокая +2 слоя       0.79      0.75\n",
       "3       Полносвязная сеть       0.54      0.49"
      ]
     },
     "execution_count": 30,
     "metadata": {},
     "output_type": "execute_result"
    }
   ],
   "source": [
    "results"
   ]
  },
  {
   "cell_type": "markdown",
   "id": "43106ccf",
   "metadata": {},
   "source": [
    "Полносвязная модель покала худшие результаты, что еще раз подверждает эффективность сверточных нейронных сетей для классификации объектов на изображении.\n",
    "\n",
    "Увеличение глубины сети и количества фильтров помогли улучшить качество базовой модели.\n",
    "\n",
    "Лучший результат показала базовая модель с увеличенным количеством фильтров."
   ]
  },
  {
   "cell_type": "markdown",
   "id": "7147c410",
   "metadata": {},
   "source": [
    "---"
   ]
  }
 ],
 "metadata": {
  "kernelspec": {
   "display_name": "Python 3 (ipykernel)",
   "language": "python",
   "name": "python3"
  },
  "language_info": {
   "codemirror_mode": {
    "name": "ipython",
    "version": 3
   },
   "file_extension": ".py",
   "mimetype": "text/x-python",
   "name": "python",
   "nbconvert_exporter": "python",
   "pygments_lexer": "ipython3",
   "version": "3.9.12"
  }
 },
 "nbformat": 4,
 "nbformat_minor": 5
}
